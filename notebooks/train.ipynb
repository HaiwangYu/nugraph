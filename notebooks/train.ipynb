{
 "cells": [
  {
   "cell_type": "markdown",
   "id": "89e1bf3c-ff13-43cb-ab9d-10a624bc86dc",
   "metadata": {},
   "source": [
    "### Set autoreloading\n",
    "This extension will automatically update with any changes to packages in real time"
   ]
  },
  {
   "cell_type": "code",
   "execution_count": 100,
   "id": "f13fb041-bab1-494f-9d61-ca0e5298a3fd",
   "metadata": {},
   "outputs": [
    {
     "name": "stdout",
     "output_type": "stream",
     "text": [
      "The autoreload extension is already loaded. To reload it, use:\n",
      "  %reload_ext autoreload\n"
     ]
    }
   ],
   "source": [
    "%load_ext autoreload\n",
    "%autoreload 2"
   ]
  },
  {
   "cell_type": "markdown",
   "id": "43fd2d1c-a144-4f5a-9acc-45206f26c4bc",
   "metadata": {},
   "source": [
    "### Import packages\n",
    "We'll need the `pytorch_lightning` and `nugraph` packages imported in order to train"
   ]
  },
  {
   "cell_type": "code",
   "execution_count": 101,
   "id": "c6db3f02-8f1f-4a96-83f5-fc5d8886abf6",
   "metadata": {},
   "outputs": [],
   "source": [
    "import os\n",
    "from pathlib import Path\n",
    "import nugraph as ng\n",
    "import pytorch_lightning as pl"
   ]
  },
  {
   "cell_type": "markdown",
   "id": "b91c437f",
   "metadata": {},
   "source": [
    "### Set model and data to use\n",
    "\n",
    "This allows the user to switch out different model architectures and datasets"
   ]
  },
  {
   "cell_type": "code",
   "execution_count": 102,
   "id": "6e9975a0",
   "metadata": {},
   "outputs": [],
   "source": [
    "Data = ng.data.NuGraphDataModule\n",
    "Model = ng.models.NuGraph3"
   ]
  },
  {
   "cell_type": "markdown",
   "id": "59d08add-2aa1-4aa1-a4b9-20080cbc96dc",
   "metadata": {},
   "source": [
    "### Configure data module\n",
    "Declare a data module. Depending on where you're working, you should edit the data path below to point to a valid data location."
   ]
  },
  {
   "cell_type": "code",
   "execution_count": 103,
   "id": "c0508fe3-a5ae-4485-9426-8042ea6d0b8e",
   "metadata": {},
   "outputs": [],
   "source": [
    "nudata = Data(model=Model, data_path=\"/exp/sbnd/app/users/yuhw/nugraph/pywcml/sample/2level.h5\")\n",
    "# nudata = Data(model=Model, data_path=\"/scratch/7DayLifetime/yuhw/wirecell/nugraph/data/23334072.h5\")"
   ]
  },
  {
   "cell_type": "markdown",
   "id": "d1fc5014-cb2e-4b70-a28d-c4418263db30",
   "metadata": {},
   "source": [
    "### Configure network\n",
    "Declare a model. You can edit the arguments below to change the network configuration."
   ]
  },
  {
   "cell_type": "code",
   "execution_count": 104,
   "id": "db0d2c7d-b5de-4bcf-afd7-86bbfdfae49f",
   "metadata": {},
   "outputs": [],
   "source": [
    "nugraph = Model(\n",
    "    in_features=8,\n",
    "    hit_features=128,\n",
    "    nexus_features=32,\n",
    "    instance_features=32,\n",
    "    interaction_features=32,\n",
    "    semantic_classes=nudata.semantic_classes,\n",
    "    event_classes=nudata.event_classes,\n",
    "    num_iters=5,\n",
    "    event_head=False,\n",
    "    semantic_head=True,\n",
    "    filter_head=True,\n",
    "    vertex_head=False,\n",
    "    instance_head=True,\n",
    "    use_checkpointing=True,\n",
    "    lr=0.001)"
   ]
  },
  {
   "cell_type": "code",
   "execution_count": 105,
   "id": "904f64b5",
   "metadata": {},
   "outputs": [
    {
     "name": "stdout",
     "output_type": "stream",
     "text": [
      "NUGRAPH_LOG is now set to: /exp/sbnd/app/users/yuhw/nugraph/log\n"
     ]
    }
   ],
   "source": [
    "import os\n",
    "\n",
    "# Set environment variable for NUGRAPH_LOG\n",
    "os.environ[\"NUGRAPH_LOG\"] = \"/exp/sbnd/app/users/yuhw/nugraph/log\"\n",
    "\n",
    "# Confirm the variable has been set\n",
    "print(f\"NUGRAPH_LOG is now set to: {os.environ['NUGRAPH_LOG']}\")"
   ]
  },
  {
   "cell_type": "markdown",
   "id": "cde22fac-5a05-4963-9dbe-6afb048f5cfc",
   "metadata": {},
   "source": [
    "### Configure logger and callbacks\n",
    "Declare a tensorboard logger and define the output directory, so we can monitor network training. Also define a callback so we can monitor learning rate evolution."
   ]
  },
  {
   "cell_type": "code",
   "execution_count": 106,
   "id": "8f953010-1ec3-461a-b2b8-6c99887b7c99",
   "metadata": {},
   "outputs": [],
   "source": [
    "name = \"test-10-03\"\n",
    "logdir = Path(os.environ[\"NUGRAPH_LOG\"])/name\n",
    "logdir.mkdir(parents=True, exist_ok=True)\n",
    "logger = pl.loggers.WandbLogger(save_dir=logdir, project=\"nugraph3\", name=name,\n",
    "                                log_model=\"all\")\n",
    "callbacks = [\n",
    "    pl.callbacks.LearningRateMonitor(logging_interval=\"step\"),\n",
    "    pl.callbacks.ModelCheckpoint(monitor=\"loss/val\", mode=\"min\"),\n",
    "]"
   ]
  },
  {
   "cell_type": "markdown",
   "id": "d925a74d-9cf9-4829-872d-db585fb4000c",
   "metadata": {},
   "source": [
    "### Declare trainer and run training\n",
    "First we set the training device. To train with a GPU, pass an integer  otherwise, it defaults to CPU training. We then instantiate a PyTorch Lightning trainer that we'll use for training, and then run the training stage, which iterates over all batches in the train and validation datasets to optimise model parameters, writing output metrics to tensorboard."
   ]
  },
  {
   "cell_type": "code",
   "execution_count": 107,
   "id": "f6e7cfb5-0a54-46f7-b640-6b5eb121e5c1",
   "metadata": {},
   "outputs": [
    {
     "name": "stderr",
     "output_type": "stream",
     "text": [
      "GPU available: True (cuda), used: True\n",
      "TPU available: False, using: 0 TPU cores\n",
      "HPU available: False, using: 0 HPUs\n"
     ]
    },
    {
     "name": "stdout",
     "output_type": "stream",
     "text": [
      "Using accelerator=gpu, devices=[0]\n"
     ]
    },
    {
     "data": {
      "text/html": [],
      "text/plain": [
       "<IPython.core.display.HTML object>"
      ]
     },
     "metadata": {},
     "output_type": "display_data"
    },
    {
     "data": {
      "text/html": [
       "Tracking run with wandb version 0.22.0"
      ],
      "text/plain": [
       "<IPython.core.display.HTML object>"
      ]
     },
     "metadata": {},
     "output_type": "display_data"
    },
    {
     "data": {
      "text/html": [
       "Run data is saved locally in <code>/exp/sbnd/app/users/yuhw/nugraph/log/test-10-03/wandb/run-20251003_130559-y9guviry</code>"
      ],
      "text/plain": [
       "<IPython.core.display.HTML object>"
      ]
     },
     "metadata": {},
     "output_type": "display_data"
    },
    {
     "data": {
      "text/html": [
       "Syncing run <strong><a href='https://wandb.ai/yuhw-brookhaven-national-laboratory/nugraph3/runs/y9guviry' target=\"_blank\">test-10-03</a></strong> to <a href='https://wandb.ai/yuhw-brookhaven-national-laboratory/nugraph3' target=\"_blank\">Weights & Biases</a> (<a href='https://wandb.me/developer-guide' target=\"_blank\">docs</a>)<br>"
      ],
      "text/plain": [
       "<IPython.core.display.HTML object>"
      ]
     },
     "metadata": {},
     "output_type": "display_data"
    },
    {
     "data": {
      "text/html": [
       " View project at <a href='https://wandb.ai/yuhw-brookhaven-national-laboratory/nugraph3' target=\"_blank\">https://wandb.ai/yuhw-brookhaven-national-laboratory/nugraph3</a>"
      ],
      "text/plain": [
       "<IPython.core.display.HTML object>"
      ]
     },
     "metadata": {},
     "output_type": "display_data"
    },
    {
     "data": {
      "text/html": [
       " View run at <a href='https://wandb.ai/yuhw-brookhaven-national-laboratory/nugraph3/runs/y9guviry' target=\"_blank\">https://wandb.ai/yuhw-brookhaven-national-laboratory/nugraph3/runs/y9guviry</a>"
      ],
      "text/plain": [
       "<IPython.core.display.HTML object>"
      ]
     },
     "metadata": {},
     "output_type": "display_data"
    },
    {
     "name": "stderr",
     "output_type": "stream",
     "text": [
      "LOCAL_RANK: 0 - CUDA_VISIBLE_DEVICES: [0]\n",
      "Loading `train_dataloader` to estimate number of stepping batches.\n",
      "/exp/sbnd/app/users/yuhw/dl-clustering/venv_eaf/lib/python3.10/site-packages/pytorch_lightning/loops/fit_loop.py:310: The number of training batches (1) is smaller than the logging interval Trainer(log_every_n_steps=50). Set a lower value for log_every_n_steps if you want to see logs for the training epoch.\n",
      "\n",
      "  | Name             | Type            | Params | Mode \n",
      "-------------------------------------------------------------\n",
      "0 | encoder          | Encoder         | 1.2 K  | train\n",
      "1 | core_net         | NuGraphCore     | 99.7 K | train\n",
      "2 | semantic_decoder | SemanticDecoder | 259    | train\n",
      "3 | filter_decoder   | FilterDecoder   | 130    | train\n",
      "4 | instance_decoder | InstanceDecoder | 4.3 K  | train\n",
      "-------------------------------------------------------------\n",
      "105 K     Trainable params\n",
      "17        Non-trainable params\n",
      "105 K     Total params\n",
      "0.422     Total estimated model params size (MB)\n",
      "73        Modules in train mode\n",
      "0         Modules in eval mode\n"
     ]
    },
    {
     "data": {
      "application/vnd.jupyter.widget-view+json": {
       "model_id": "74eb04f7ab2d4cb6a73ca2263401b38a",
       "version_major": 2,
       "version_minor": 0
      },
      "text/plain": [
       "Sanity Checking: |          | 0/? [00:00<?, ?it/s]"
      ]
     },
     "metadata": {},
     "output_type": "display_data"
    },
    {
     "data": {
      "application/vnd.jupyter.widget-view+json": {
       "model_id": "1f23492ef040440eb4bd3f18b1986338",
       "version_major": 2,
       "version_minor": 0
      },
      "text/plain": [
       "Training: |          | 0/? [00:00<?, ?it/s]"
      ]
     },
     "metadata": {},
     "output_type": "display_data"
    },
    {
     "data": {
      "application/vnd.jupyter.widget-view+json": {
       "model_id": "e71a3431343f49c5bc3f34bb8cb18c2d",
       "version_major": 2,
       "version_minor": 0
      },
      "text/plain": [
       "Validation: |          | 0/? [00:00<?, ?it/s]"
      ]
     },
     "metadata": {},
     "output_type": "display_data"
    },
    {
     "data": {
      "application/vnd.jupyter.widget-view+json": {
       "model_id": "badd3ec70e9b4e5d9efb3b7f58b2c0f6",
       "version_major": 2,
       "version_minor": 0
      },
      "text/plain": [
       "Validation: |          | 0/? [00:00<?, ?it/s]"
      ]
     },
     "metadata": {},
     "output_type": "display_data"
    },
    {
     "data": {
      "application/vnd.jupyter.widget-view+json": {
       "model_id": "8555e64ba7454849a811e07fa599934c",
       "version_major": 2,
       "version_minor": 0
      },
      "text/plain": [
       "Validation: |          | 0/? [00:00<?, ?it/s]"
      ]
     },
     "metadata": {},
     "output_type": "display_data"
    },
    {
     "data": {
      "application/vnd.jupyter.widget-view+json": {
       "model_id": "29a2348440d04931ac4604cd122ed049",
       "version_major": 2,
       "version_minor": 0
      },
      "text/plain": [
       "Validation: |          | 0/? [00:00<?, ?it/s]"
      ]
     },
     "metadata": {},
     "output_type": "display_data"
    },
    {
     "data": {
      "application/vnd.jupyter.widget-view+json": {
       "model_id": "d49af22923934f20a7b63cc9916199f1",
       "version_major": 2,
       "version_minor": 0
      },
      "text/plain": [
       "Validation: |          | 0/? [00:00<?, ?it/s]"
      ]
     },
     "metadata": {},
     "output_type": "display_data"
    },
    {
     "data": {
      "application/vnd.jupyter.widget-view+json": {
       "model_id": "62e14e6efb674a179acbf42b074c6591",
       "version_major": 2,
       "version_minor": 0
      },
      "text/plain": [
       "Validation: |          | 0/? [00:00<?, ?it/s]"
      ]
     },
     "metadata": {},
     "output_type": "display_data"
    },
    {
     "data": {
      "application/vnd.jupyter.widget-view+json": {
       "model_id": "56ac9caaf9854ef6a99f204bb1f81d4e",
       "version_major": 2,
       "version_minor": 0
      },
      "text/plain": [
       "Validation: |          | 0/? [00:00<?, ?it/s]"
      ]
     },
     "metadata": {},
     "output_type": "display_data"
    },
    {
     "data": {
      "application/vnd.jupyter.widget-view+json": {
       "model_id": "857215bcf0024316aecedacd50e960ce",
       "version_major": 2,
       "version_minor": 0
      },
      "text/plain": [
       "Validation: |          | 0/? [00:00<?, ?it/s]"
      ]
     },
     "metadata": {},
     "output_type": "display_data"
    },
    {
     "data": {
      "application/vnd.jupyter.widget-view+json": {
       "model_id": "d311c47aefa746ab951e95e99965018e",
       "version_major": 2,
       "version_minor": 0
      },
      "text/plain": [
       "Validation: |          | 0/? [00:00<?, ?it/s]"
      ]
     },
     "metadata": {},
     "output_type": "display_data"
    },
    {
     "data": {
      "application/vnd.jupyter.widget-view+json": {
       "model_id": "0ade054c694c4644b145fea2bea7477d",
       "version_major": 2,
       "version_minor": 0
      },
      "text/plain": [
       "Validation: |          | 0/? [00:00<?, ?it/s]"
      ]
     },
     "metadata": {},
     "output_type": "display_data"
    },
    {
     "name": "stderr",
     "output_type": "stream",
     "text": [
      "`Trainer.fit` stopped: `max_epochs=10` reached.\n",
      "/exp/sbnd/app/users/yuhw/dl-clustering/venv_eaf/lib/python3.10/site-packages/pytorch_lightning/trainer/connectors/checkpoint_connector.py:149: `.test(ckpt_path=None)` was called without a model. The best model of the previous `fit` call will be used. You can pass `.test(ckpt_path='best')` to use the best model or `.test(ckpt_path='last')` to use the last model. If you pass a value, this warning will be silenced.\n",
      "Restoring states from the checkpoint path at /exp/sbnd/app/users/yuhw/nugraph/log/test-10-03/nugraph3/y9guviry/checkpoints/epoch=9-step=10.ckpt\n",
      "LOCAL_RANK: 0 - CUDA_VISIBLE_DEVICES: [0]\n",
      "Loaded model weights from the checkpoint at /exp/sbnd/app/users/yuhw/nugraph/log/test-10-03/nugraph3/y9guviry/checkpoints/epoch=9-step=10.ckpt\n"
     ]
    },
    {
     "data": {
      "application/vnd.jupyter.widget-view+json": {
       "model_id": "50a9effc62154e1a9faec1920eb7e7b4",
       "version_major": 2,
       "version_minor": 0
      },
      "text/plain": [
       "Testing: |          | 0/? [00:00<?, ?it/s]"
      ]
     },
     "metadata": {},
     "output_type": "display_data"
    },
    {
     "data": {
      "text/html": [
       "<pre style=\"white-space:pre;overflow-x:auto;line-height:normal;font-family:Menlo,'DejaVu Sans Mono',consolas,'Courier New',monospace\">┏━━━━━━━━━━━━━━━━━━━━━━━━━━━━━━┳━━━━━━━━━━━━━━━━━━━━━━━━━━━━━━┓\n",
       "┃<span style=\"font-weight: bold\">         Test metric          </span>┃<span style=\"font-weight: bold\">         DataLoader 0         </span>┃\n",
       "┡━━━━━━━━━━━━━━━━━━━━━━━━━━━━━━╇━━━━━━━━━━━━━━━━━━━━━━━━━━━━━━┩\n",
       "│<span style=\"color: #008080; text-decoration-color: #008080\">       filter/loss-test       </span>│<span style=\"color: #800080; text-decoration-color: #800080\">      1.2939022779464722      </span>│\n",
       "│<span style=\"color: #008080; text-decoration-color: #008080\">    filter/precision-test     </span>│<span style=\"color: #800080; text-decoration-color: #800080\">             0.0              </span>│\n",
       "│<span style=\"color: #008080; text-decoration-color: #008080\">      filter/recall-test      </span>│<span style=\"color: #800080; text-decoration-color: #800080\">             0.0              </span>│\n",
       "│<span style=\"color: #008080; text-decoration-color: #008080\"> instance/adjusted-rand-test  </span>│<span style=\"color: #800080; text-decoration-color: #800080\">             1.0              </span>│\n",
       "│<span style=\"color: #008080; text-decoration-color: #008080\">    instance/bkg-loss-test    </span>│<span style=\"color: #800080; text-decoration-color: #800080\">      0.5245781540870667      </span>│\n",
       "│<span style=\"color: #008080; text-decoration-color: #008080\">      instance/loss-test      </span>│<span style=\"color: #800080; text-decoration-color: #800080\">      8.650487899780273       </span>│\n",
       "│<span style=\"color: #008080; text-decoration-color: #008080\"> instance/potential-loss-test </span>│<span style=\"color: #800080; text-decoration-color: #800080\">      8.121854782104492       </span>│\n",
       "│<span style=\"color: #008080; text-decoration-color: #008080\">          loss/test           </span>│<span style=\"color: #800080; text-decoration-color: #800080\">      10.125808715820312      </span>│\n",
       "│<span style=\"color: #008080; text-decoration-color: #008080\">      semantic/loss-test      </span>│<span style=\"color: #800080; text-decoration-color: #800080\">     0.18141819536685944      </span>│\n",
       "│<span style=\"color: #008080; text-decoration-color: #008080\">   semantic/precision-test    </span>│<span style=\"color: #800080; text-decoration-color: #800080\">      0.8682976961135864      </span>│\n",
       "│<span style=\"color: #008080; text-decoration-color: #008080\">     semantic/recall-test     </span>│<span style=\"color: #800080; text-decoration-color: #800080\">      0.8682976961135864      </span>│\n",
       "└──────────────────────────────┴──────────────────────────────┘\n",
       "</pre>\n"
      ],
      "text/plain": [
       "┏━━━━━━━━━━━━━━━━━━━━━━━━━━━━━━┳━━━━━━━━━━━━━━━━━━━━━━━━━━━━━━┓\n",
       "┃\u001b[1m \u001b[0m\u001b[1m        Test metric         \u001b[0m\u001b[1m \u001b[0m┃\u001b[1m \u001b[0m\u001b[1m        DataLoader 0        \u001b[0m\u001b[1m \u001b[0m┃\n",
       "┡━━━━━━━━━━━━━━━━━━━━━━━━━━━━━━╇━━━━━━━━━━━━━━━━━━━━━━━━━━━━━━┩\n",
       "│\u001b[36m \u001b[0m\u001b[36m      filter/loss-test      \u001b[0m\u001b[36m \u001b[0m│\u001b[35m \u001b[0m\u001b[35m     1.2939022779464722     \u001b[0m\u001b[35m \u001b[0m│\n",
       "│\u001b[36m \u001b[0m\u001b[36m   filter/precision-test    \u001b[0m\u001b[36m \u001b[0m│\u001b[35m \u001b[0m\u001b[35m            0.0             \u001b[0m\u001b[35m \u001b[0m│\n",
       "│\u001b[36m \u001b[0m\u001b[36m     filter/recall-test     \u001b[0m\u001b[36m \u001b[0m│\u001b[35m \u001b[0m\u001b[35m            0.0             \u001b[0m\u001b[35m \u001b[0m│\n",
       "│\u001b[36m \u001b[0m\u001b[36minstance/adjusted-rand-test \u001b[0m\u001b[36m \u001b[0m│\u001b[35m \u001b[0m\u001b[35m            1.0             \u001b[0m\u001b[35m \u001b[0m│\n",
       "│\u001b[36m \u001b[0m\u001b[36m   instance/bkg-loss-test   \u001b[0m\u001b[36m \u001b[0m│\u001b[35m \u001b[0m\u001b[35m     0.5245781540870667     \u001b[0m\u001b[35m \u001b[0m│\n",
       "│\u001b[36m \u001b[0m\u001b[36m     instance/loss-test     \u001b[0m\u001b[36m \u001b[0m│\u001b[35m \u001b[0m\u001b[35m     8.650487899780273      \u001b[0m\u001b[35m \u001b[0m│\n",
       "│\u001b[36m \u001b[0m\u001b[36minstance/potential-loss-test\u001b[0m\u001b[36m \u001b[0m│\u001b[35m \u001b[0m\u001b[35m     8.121854782104492      \u001b[0m\u001b[35m \u001b[0m│\n",
       "│\u001b[36m \u001b[0m\u001b[36m         loss/test          \u001b[0m\u001b[36m \u001b[0m│\u001b[35m \u001b[0m\u001b[35m     10.125808715820312     \u001b[0m\u001b[35m \u001b[0m│\n",
       "│\u001b[36m \u001b[0m\u001b[36m     semantic/loss-test     \u001b[0m\u001b[36m \u001b[0m│\u001b[35m \u001b[0m\u001b[35m    0.18141819536685944     \u001b[0m\u001b[35m \u001b[0m│\n",
       "│\u001b[36m \u001b[0m\u001b[36m  semantic/precision-test   \u001b[0m\u001b[36m \u001b[0m│\u001b[35m \u001b[0m\u001b[35m     0.8682976961135864     \u001b[0m\u001b[35m \u001b[0m│\n",
       "│\u001b[36m \u001b[0m\u001b[36m    semantic/recall-test    \u001b[0m\u001b[36m \u001b[0m│\u001b[35m \u001b[0m\u001b[35m     0.8682976961135864     \u001b[0m\u001b[35m \u001b[0m│\n",
       "└──────────────────────────────┴──────────────────────────────┘\n"
      ]
     },
     "metadata": {},
     "output_type": "display_data"
    },
    {
     "data": {
      "text/plain": [
       "[{'loss/test': 10.125808715820312,\n",
       "  'semantic/loss-test': 0.18141819536685944,\n",
       "  'semantic/recall-test': 0.8682976961135864,\n",
       "  'semantic/precision-test': 0.8682976961135864,\n",
       "  'filter/loss-test': 1.2939022779464722,\n",
       "  'filter/recall-test': 0.0,\n",
       "  'filter/precision-test': 0.0,\n",
       "  'instance/loss-test': 8.650487899780273,\n",
       "  'instance/bkg-loss-test': 0.5245781540870667,\n",
       "  'instance/potential-loss-test': 8.121854782104492,\n",
       "  'instance/adjusted-rand-test': 1.0}]"
      ]
     },
     "execution_count": 107,
     "metadata": {},
     "output_type": "execute_result"
    }
   ],
   "source": [
    "accelerator, devices = ng.util.configure_device(0)\n",
    "print(f\"Using accelerator={accelerator}, devices={devices}\")\n",
    "trainer = pl.Trainer(accelerator=accelerator,\n",
    "                     devices=devices,\n",
    "                     max_epochs=10,\n",
    "                     logger=logger,\n",
    "                     callbacks=callbacks)\n",
    "trainer.fit(nugraph, datamodule=nudata)\n",
    "trainer.test(datamodule=nudata)"
   ]
  },
  {
   "cell_type": "code",
   "execution_count": 108,
   "id": "65052f96-fe84-408d-af96-712812b97168",
   "metadata": {},
   "outputs": [
    {
     "data": {
      "text/html": [],
      "text/plain": [
       "<IPython.core.display.HTML object>"
      ]
     },
     "metadata": {},
     "output_type": "display_data"
    },
    {
     "data": {
      "text/html": [
       "<br>    <style><br>        .wandb-row {<br>            display: flex;<br>            flex-direction: row;<br>            flex-wrap: wrap;<br>            justify-content: flex-start;<br>            width: 100%;<br>        }<br>        .wandb-col {<br>            display: flex;<br>            flex-direction: column;<br>            flex-basis: 100%;<br>            flex: 1;<br>            padding: 10px;<br>        }<br>    </style><br><div class=\"wandb-row\"><div class=\"wandb-col\"><h3>Run history:</h3><br/><table class=\"wandb\"><tr><td>epoch</td><td>▁▂▂▃▄▅▅▆▇▇█</td></tr><tr><td>filter/loss-test</td><td>▁</td></tr><tr><td>filter/loss-val</td><td>█▇▆▅▄▂▂▁▁▁</td></tr><tr><td>filter/precision-test</td><td>▁</td></tr><tr><td>filter/precision-val</td><td>▁▁▁▁▁▁▁▁▁▁</td></tr><tr><td>filter/recall-test</td><td>▁</td></tr><tr><td>filter/recall-val</td><td>▁▁▁▁▁▁▁▁▁▁</td></tr><tr><td>instance/adjusted-rand-test</td><td>▁</td></tr><tr><td>instance/adjusted-rand-val</td><td>▁▁▁▁▁▁▁▁▁▁</td></tr><tr><td>instance/bkg-loss-test</td><td>▁</td></tr><tr><td>+14</td><td>...</td></tr></table><br/></div><div class=\"wandb-col\"><h3>Run summary:</h3><br/><table class=\"wandb\"><tr><td>epoch</td><td>10</td></tr><tr><td>filter/loss-test</td><td>1.2939</td></tr><tr><td>filter/loss-val</td><td>1.29387</td></tr><tr><td>filter/precision-test</td><td>0</td></tr><tr><td>filter/precision-val</td><td>0</td></tr><tr><td>filter/recall-test</td><td>0</td></tr><tr><td>filter/recall-val</td><td>0</td></tr><tr><td>instance/adjusted-rand-test</td><td>1</td></tr><tr><td>instance/adjusted-rand-val</td><td>1</td></tr><tr><td>instance/bkg-loss-test</td><td>0.52458</td></tr><tr><td>+14</td><td>...</td></tr></table><br/></div></div>"
      ],
      "text/plain": [
       "<IPython.core.display.HTML object>"
      ]
     },
     "metadata": {},
     "output_type": "display_data"
    },
    {
     "data": {
      "text/html": [
       " View run <strong style=\"color:#cdcd00\">test-10-03</strong> at: <a href='https://wandb.ai/yuhw-brookhaven-national-laboratory/nugraph3/runs/y9guviry' target=\"_blank\">https://wandb.ai/yuhw-brookhaven-national-laboratory/nugraph3/runs/y9guviry</a><br> View project at: <a href='https://wandb.ai/yuhw-brookhaven-national-laboratory/nugraph3' target=\"_blank\">https://wandb.ai/yuhw-brookhaven-national-laboratory/nugraph3</a><br>Synced 5 W&B file(s), 48 media file(s), 158 artifact file(s) and 0 other file(s)"
      ],
      "text/plain": [
       "<IPython.core.display.HTML object>"
      ]
     },
     "metadata": {},
     "output_type": "display_data"
    },
    {
     "data": {
      "text/html": [
       "Find logs at: <code>/exp/sbnd/app/users/yuhw/nugraph/log/test-10-03/wandb/run-20251003_130559-y9guviry/logs</code>"
      ],
      "text/plain": [
       "<IPython.core.display.HTML object>"
      ]
     },
     "metadata": {},
     "output_type": "display_data"
    }
   ],
   "source": [
    "import wandb\n",
    "while wandb.run is not None:\n",
    "    wandb.finish(quiet=True)"
   ]
  },
  {
   "cell_type": "code",
   "execution_count": null,
   "id": "cca9bf65",
   "metadata": {},
   "outputs": [],
   "source": []
  }
 ],
 "metadata": {
  "kernelspec": {
   "display_name": "dl-clustering-eaf",
   "language": "python",
   "name": "dl-clustering-eaf"
  },
  "language_info": {
   "codemirror_mode": {
    "name": "ipython",
    "version": 3
   },
   "file_extension": ".py",
   "mimetype": "text/x-python",
   "name": "python",
   "nbconvert_exporter": "python",
   "pygments_lexer": "ipython3",
   "version": "3.10.18"
  }
 },
 "nbformat": 4,
 "nbformat_minor": 5
}
