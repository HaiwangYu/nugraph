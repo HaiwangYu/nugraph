{
 "cells": [
  {
   "cell_type": "markdown",
   "id": "89e1bf3c-ff13-43cb-ab9d-10a624bc86dc",
   "metadata": {},
   "source": [
    "### Set autoreloading\n",
    "This extension will automatically update with any changes to packages in real time"
   ]
  },
  {
   "cell_type": "code",
   "execution_count": null,
   "id": "f13fb041-bab1-494f-9d61-ca0e5298a3fd",
   "metadata": {},
   "outputs": [],
   "source": [
    "%load_ext autoreload\n",
    "%autoreload 2"
   ]
  },
  {
   "cell_type": "markdown",
   "id": "43fd2d1c-a144-4f5a-9acc-45206f26c4bc",
   "metadata": {},
   "source": [
    "### Import packages\n",
    "We'll need the `pytorch_lightning` and `nugraph` packages imported in order to train"
   ]
  },
  {
   "cell_type": "code",
   "execution_count": null,
   "id": "c6db3f02-8f1f-4a96-83f5-fc5d8886abf6",
   "metadata": {},
   "outputs": [],
   "source": [
    "import os\n",
    "from pathlib import Path\n",
    "import nugraph as ng\n",
    "import pytorch_lightning as pl"
   ]
  },
  {
   "cell_type": "markdown",
   "id": "52b3e618",
   "metadata": {},
   "source": [
    "### Set up nugraph environment\n",
    "\n",
    "This function will set up your environment (home directory, data directory and output log directory). If the `NUGRAPH_DIR`, `NUGRAPH_DATA` or `NUGRAPH_LOG` environment variables are set, they will be used – if not, it will detect your current host and attempt to automatically configure them. If your environment fails to configure automatically, you can either set the environment variables in this code block by declaring `os.environ[\"NUGRAPH_DIR\"] = \"/your/path\"` etc, or add your host to the `NUGRAPH_ENV` dictionary in `nugraph/util/scriptutils.py`."
   ]
  },
  {
   "cell_type": "code",
   "execution_count": null,
   "id": "3039e416",
   "metadata": {},
   "outputs": [],
   "source": [
    "ng.setup_env()"
   ]
  },
  {
   "cell_type": "markdown",
   "id": "59d08add-2aa1-4aa1-a4b9-20080cbc96dc",
   "metadata": {},
   "source": [
    "### Configure data module\n",
    "Declare a data module. Depending on where you're working, you should edit the data path below to point to a valid data location."
   ]
  },
  {
   "cell_type": "code",
   "execution_count": null,
   "id": "c0508fe3-a5ae-4485-9426-8042ea6d0b8e",
   "metadata": {},
   "outputs": [],
   "source": [
    "nudata = ng.data.H5DataModule(data_path='$NUGRAPH_DATA/uboone-opendata/uboone-opendata.gnn.h5', batch_size=64)"
   ]
  },
  {
   "cell_type": "markdown",
   "id": "d1fc5014-cb2e-4b70-a28d-c4418263db30",
   "metadata": {},
   "source": [
    "### Configure network\n",
    "Declare a model. You can edit the arguments below to change the network configuration."
   ]
  },
  {
   "cell_type": "code",
   "execution_count": null,
   "id": "db0d2c7d-b5de-4bcf-afd7-86bbfdfae49f",
   "metadata": {},
   "outputs": [],
   "source": [
    "nugraph = ng.models.NuGraph3(\n",
    "    in_features=5,\n",
    "    hit_features=128,\n",
    "    nexus_features=32,\n",
    "    instance_features=32,\n",
    "    interaction_features=32,\n",
    "    semantic_classes=nudata.semantic_classes,\n",
    "    event_classes=nudata.event_classes,\n",
    "    num_iters=5,\n",
    "    event_head=False,\n",
    "    semantic_head=True,\n",
    "    filter_head=True,\n",
    "    vertex_head=False,\n",
    "    instance_head=True,\n",
    "    use_checkpointing=True,\n",
    "    lr=0.001)"
   ]
  },
  {
   "cell_type": "markdown",
   "id": "cde22fac-5a05-4963-9dbe-6afb048f5cfc",
   "metadata": {},
   "source": [
    "### Configure logger and callbacks\n",
    "Declare a tensorboard logger and define the output directory, so we can monitor network training. Also define a callback so we can monitor learning rate evolution."
   ]
  },
  {
   "cell_type": "code",
   "execution_count": null,
   "id": "8f953010-1ec3-461a-b2b8-6c99887b7c99",
   "metadata": {},
   "outputs": [],
   "source": [
    "name = \"test\"\n",
    "logdir = Path(os.environ[\"NUGRAPH_LOG\"])/name\n",
    "logdir.mkdir(parents=True, exist_ok=True)\n",
    "logger = pl.loggers.WandbLogger(save_dir=logdir, project=\"nugraph3\", name=\"test\",\n",
    "                                log_model=\"all\")\n",
    "callbacks = [\n",
    "    pl.callbacks.LearningRateMonitor(logging_interval=\"step\"),\n",
    "    pl.callbacks.ModelCheckpoint(monitor=\"loss/val\", mode=\"min\"),\n",
    "]"
   ]
  },
  {
   "cell_type": "markdown",
   "id": "d925a74d-9cf9-4829-872d-db585fb4000c",
   "metadata": {},
   "source": [
    "### Declare trainer and run training\n",
    "First we set the training device. In the instance that we're in a multi-GPU environment, the code will automatically select the GPU with the most available memory; otherwise, it defaults to CPU training. We then instantiate a PyTorch Lightning trainer that we'll use for training, and then run the training stage, which iterates over all batches in the train and validation datasets to optimise model parameters, writing output metrics to tensorboard."
   ]
  },
  {
   "cell_type": "code",
   "execution_count": null,
   "id": "f6e7cfb5-0a54-46f7-b640-6b5eb121e5c1",
   "metadata": {},
   "outputs": [],
   "source": [
    "accelerator, devices = ng.util.configure_device()\n",
    "trainer = pl.Trainer(accelerator=accelerator,\n",
    "                     devices=devices,\n",
    "                     max_epochs=80,\n",
    "                     logger=logger,\n",
    "                     callbacks=callbacks)\n",
    "trainer.fit(nugraph, datamodule=nudata)\n",
    "trainer.test(datamodule=nudata)"
   ]
  },
  {
   "cell_type": "code",
   "execution_count": null,
   "id": "65052f96-fe84-408d-af96-712812b97168",
   "metadata": {},
   "outputs": [],
   "source": []
  }
 ],
 "metadata": {
  "kernelspec": {
   "display_name": "Python 3 (ipykernel)",
   "language": "python",
   "name": "python3"
  },
  "language_info": {
   "codemirror_mode": {
    "name": "ipython",
    "version": 3
   },
   "file_extension": ".py",
   "mimetype": "text/x-python",
   "name": "python",
   "nbconvert_exporter": "python",
   "pygments_lexer": "ipython3",
   "version": "3.10.14"
  }
 },
 "nbformat": 4,
 "nbformat_minor": 5
}
