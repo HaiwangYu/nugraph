{
 "cells": [
  {
   "cell_type": "markdown",
   "id": "ce693164-836c-47c0-a933-4986042600c0",
   "metadata": {},
   "source": [
    "### Set autoreloading\n",
    "This extension will automatically update with any changes to packages in real time"
   ]
  },
  {
   "cell_type": "code",
   "execution_count": 10,
   "id": "733e103f-ea23-4288-b69e-9e8a55f0b534",
   "metadata": {},
   "outputs": [
    {
     "name": "stdout",
     "output_type": "stream",
     "text": [
      "The autoreload extension is already loaded. To reload it, use:\n",
      "  %reload_ext autoreload\n"
     ]
    }
   ],
   "source": [
    "%load_ext autoreload\n",
    "%autoreload 2"
   ]
  },
  {
   "cell_type": "markdown",
   "id": "84b16126-2ed2-4d51-8c66-a93acb38e97d",
   "metadata": {},
   "source": [
    "### Import packages\n",
    "We'll need the `nugraph` and `pynuml` packages imported in order to plot, and `torch` for some tensor operations later on"
   ]
  },
  {
   "cell_type": "code",
   "execution_count": 11,
   "id": "b442335d-c606-49dd-a433-e5dcdf65cd91",
   "metadata": {},
   "outputs": [],
   "source": [
    "import os\n",
    "import nugraph as ng\n",
    "import pynuml\n",
    "import torch"
   ]
  },
  {
   "cell_type": "markdown",
   "id": "fc67630f",
   "metadata": {},
   "source": [
    "### Set model and data to use\n",
    "\n",
    "This allows the user to switch out different model architectures and datasets"
   ]
  },
  {
   "cell_type": "code",
   "execution_count": 12,
   "id": "f42f4afb",
   "metadata": {},
   "outputs": [],
   "source": [
    "Data = ng.data.NuGraphDataModule\n",
    "Model = ng.models.NuGraph2"
   ]
  },
  {
   "cell_type": "markdown",
   "id": "dc43e3c6-f82d-46d4-9bbe-dc8ffe573d9a",
   "metadata": {},
   "source": [
    "### Configure data module\n",
    "Declare a data module. If you're working on a standard cluster, the data file location should be configured automatically. If not, you'll need to configure it manually."
   ]
  },
  {
   "cell_type": "code",
   "execution_count": 13,
   "id": "c7af2444-0908-43d7-a57d-254bca5c5e76",
   "metadata": {},
   "outputs": [],
   "source": [
    "nudata = Data(model=Model)"
   ]
  },
  {
   "cell_type": "markdown",
   "id": "f81b975b-23a0-4acb-9880-3406e0c9a661",
   "metadata": {},
   "source": [
    "### Configure network\n",
    "In order to test a trained model, we instantiate it using a checkpoint file. These are produced during training, so if you've trained a model, there should be an associated checkpoint in your output directory that you can pass here."
   ]
  },
  {
   "cell_type": "code",
   "execution_count": 14,
   "id": "93db4c8d-d67c-4d80-8104-565cd5354a7f",
   "metadata": {},
   "outputs": [
    {
     "ename": "RuntimeError",
     "evalue": "Error(s) in loading state_dict for NuGraph2:\n\tMissing key(s) in state_dict: \"encoder.net.u.0.norm.count\", \"encoder.net.u.0.norm.mean\", \"encoder.net.u.0.norm.var\", \"encoder.net.u.1.net.0.weight\", \"encoder.net.u.1.net.0.bias\", \"encoder.net.u.1.net.1.weight\", \"encoder.net.u.1.net.1.bias\", \"encoder.net.u.1.net.2.weight\", \"encoder.net.u.1.net.2.bias\", \"encoder.net.u.1.net.3.weight\", \"encoder.net.u.1.net.3.bias\", \"encoder.net.u.1.net.4.weight\", \"encoder.net.u.1.net.4.bias\", \"encoder.net.v.0.norm.count\", \"encoder.net.v.0.norm.mean\", \"encoder.net.v.0.norm.var\", \"encoder.net.v.1.net.0.weight\", \"encoder.net.v.1.net.0.bias\", \"encoder.net.v.1.net.1.weight\", \"encoder.net.v.1.net.1.bias\", \"encoder.net.v.1.net.2.weight\", \"encoder.net.v.1.net.2.bias\", \"encoder.net.v.1.net.3.weight\", \"encoder.net.v.1.net.3.bias\", \"encoder.net.v.1.net.4.weight\", \"encoder.net.v.1.net.4.bias\", \"encoder.net.y.0.norm.count\", \"encoder.net.y.0.norm.mean\", \"encoder.net.y.0.norm.var\", \"encoder.net.y.1.net.0.weight\", \"encoder.net.y.1.net.0.bias\", \"encoder.net.y.1.net.1.weight\", \"encoder.net.y.1.net.1.bias\", \"encoder.net.y.1.net.2.weight\", \"encoder.net.y.1.net.2.bias\", \"encoder.net.y.1.net.3.weight\", \"encoder.net.y.1.net.3.bias\", \"encoder.net.y.1.net.4.weight\", \"encoder.net.y.1.net.4.bias\". \n\tUnexpected key(s) in state_dict: \"encoder.net.u.0.net.0.weight\", \"encoder.net.u.0.net.0.bias\", \"encoder.net.u.0.net.1.weight\", \"encoder.net.u.0.net.1.bias\", \"encoder.net.u.0.net.2.weight\", \"encoder.net.u.0.net.2.bias\", \"encoder.net.u.0.net.3.weight\", \"encoder.net.u.0.net.3.bias\", \"encoder.net.u.0.net.4.weight\", \"encoder.net.u.0.net.4.bias\", \"encoder.net.v.0.net.0.weight\", \"encoder.net.v.0.net.0.bias\", \"encoder.net.v.0.net.1.weight\", \"encoder.net.v.0.net.1.bias\", \"encoder.net.v.0.net.2.weight\", \"encoder.net.v.0.net.2.bias\", \"encoder.net.v.0.net.3.weight\", \"encoder.net.v.0.net.3.bias\", \"encoder.net.v.0.net.4.weight\", \"encoder.net.v.0.net.4.bias\", \"encoder.net.y.0.net.0.weight\", \"encoder.net.y.0.net.0.bias\", \"encoder.net.y.0.net.1.weight\", \"encoder.net.y.0.net.1.bias\", \"encoder.net.y.0.net.2.weight\", \"encoder.net.y.0.net.2.bias\", \"encoder.net.y.0.net.3.weight\", \"encoder.net.y.0.net.3.bias\", \"encoder.net.y.0.net.4.weight\", \"encoder.net.y.0.net.4.bias\". ",
     "output_type": "error",
     "traceback": [
      "\u001b[0;31m---------------------------------------------------------------------------\u001b[0m",
      "\u001b[0;31mRuntimeError\u001b[0m                              Traceback (most recent call last)",
      "Cell \u001b[0;32mIn[14], line 2\u001b[0m\n\u001b[1;32m      1\u001b[0m ckpt \u001b[38;5;241m=\u001b[39m os\u001b[38;5;241m.\u001b[39mpath\u001b[38;5;241m.\u001b[39mexpandvars(\u001b[38;5;124m\"\u001b[39m\u001b[38;5;124m/exp/sbnd/app/users/yuhw/nugraph/test/NG2-paper.ckpt\u001b[39m\u001b[38;5;124m\"\u001b[39m)\n\u001b[0;32m----> 2\u001b[0m model \u001b[38;5;241m=\u001b[39m \u001b[43mModel\u001b[49m\u001b[38;5;241;43m.\u001b[39;49m\u001b[43mload_from_checkpoint\u001b[49m\u001b[43m(\u001b[49m\u001b[43mckpt\u001b[49m\u001b[43m,\u001b[49m\u001b[43m \u001b[49m\u001b[43mmap_location\u001b[49m\u001b[38;5;241;43m=\u001b[39;49m\u001b[38;5;124;43m\"\u001b[39;49m\u001b[38;5;124;43mcpu\u001b[39;49m\u001b[38;5;124;43m\"\u001b[39;49m\u001b[43m)\u001b[49m\n\u001b[1;32m      3\u001b[0m model\u001b[38;5;241m.\u001b[39mfreeze()\n",
      "File \u001b[0;32m/exp/sbnd/app/users/yuhw/dl-clustering/venv_eaf/lib/python3.10/site-packages/pytorch_lightning/utilities/model_helpers.py:125\u001b[0m, in \u001b[0;36m_restricted_classmethod_impl.__get__.<locals>.wrapper\u001b[0;34m(*args, **kwargs)\u001b[0m\n\u001b[1;32m    120\u001b[0m \u001b[38;5;28;01mif\u001b[39;00m instance \u001b[38;5;129;01mis\u001b[39;00m \u001b[38;5;129;01mnot\u001b[39;00m \u001b[38;5;28;01mNone\u001b[39;00m \u001b[38;5;129;01mand\u001b[39;00m \u001b[38;5;129;01mnot\u001b[39;00m is_scripting:\n\u001b[1;32m    121\u001b[0m     \u001b[38;5;28;01mraise\u001b[39;00m \u001b[38;5;167;01mTypeError\u001b[39;00m(\n\u001b[1;32m    122\u001b[0m         \u001b[38;5;124mf\u001b[39m\u001b[38;5;124m\"\u001b[39m\u001b[38;5;124mThe classmethod `\u001b[39m\u001b[38;5;132;01m{\u001b[39;00m\u001b[38;5;28mcls\u001b[39m\u001b[38;5;241m.\u001b[39m\u001b[38;5;18m__name__\u001b[39m\u001b[38;5;132;01m}\u001b[39;00m\u001b[38;5;124m.\u001b[39m\u001b[38;5;132;01m{\u001b[39;00m\u001b[38;5;28mself\u001b[39m\u001b[38;5;241m.\u001b[39mmethod\u001b[38;5;241m.\u001b[39m\u001b[38;5;18m__name__\u001b[39m\u001b[38;5;132;01m}\u001b[39;00m\u001b[38;5;124m` cannot be called on an instance.\u001b[39m\u001b[38;5;124m\"\u001b[39m\n\u001b[1;32m    123\u001b[0m         \u001b[38;5;124m\"\u001b[39m\u001b[38;5;124m Please call it on the class type and make sure the return value is used.\u001b[39m\u001b[38;5;124m\"\u001b[39m\n\u001b[1;32m    124\u001b[0m     )\n\u001b[0;32m--> 125\u001b[0m \u001b[38;5;28;01mreturn\u001b[39;00m \u001b[38;5;28;43mself\u001b[39;49m\u001b[38;5;241;43m.\u001b[39;49m\u001b[43mmethod\u001b[49m\u001b[43m(\u001b[49m\u001b[38;5;28;43mcls\u001b[39;49m\u001b[43m,\u001b[49m\u001b[43m \u001b[49m\u001b[38;5;241;43m*\u001b[39;49m\u001b[43margs\u001b[49m\u001b[43m,\u001b[49m\u001b[43m \u001b[49m\u001b[38;5;241;43m*\u001b[39;49m\u001b[38;5;241;43m*\u001b[39;49m\u001b[43mkwargs\u001b[49m\u001b[43m)\u001b[49m\n",
      "File \u001b[0;32m/exp/sbnd/app/users/yuhw/dl-clustering/venv_eaf/lib/python3.10/site-packages/pytorch_lightning/core/module.py:1662\u001b[0m, in \u001b[0;36mLightningModule.load_from_checkpoint\u001b[0;34m(cls, checkpoint_path, map_location, hparams_file, strict, **kwargs)\u001b[0m\n\u001b[1;32m   1573\u001b[0m \u001b[38;5;129m@_restricted_classmethod\u001b[39m\n\u001b[1;32m   1574\u001b[0m \u001b[38;5;28;01mdef\u001b[39;00m\u001b[38;5;250m \u001b[39m\u001b[38;5;21mload_from_checkpoint\u001b[39m(\n\u001b[1;32m   1575\u001b[0m     \u001b[38;5;28mcls\u001b[39m,\n\u001b[0;32m   (...)\u001b[0m\n\u001b[1;32m   1580\u001b[0m     \u001b[38;5;241m*\u001b[39m\u001b[38;5;241m*\u001b[39mkwargs: Any,\n\u001b[1;32m   1581\u001b[0m ) \u001b[38;5;241m-\u001b[39m\u001b[38;5;241m>\u001b[39m Self:\n\u001b[1;32m   1582\u001b[0m \u001b[38;5;250m    \u001b[39m\u001b[38;5;124mr\u001b[39m\u001b[38;5;124;03m\"\"\"Primary way of loading a model from a checkpoint. When Lightning saves a checkpoint it stores the arguments\u001b[39;00m\n\u001b[1;32m   1583\u001b[0m \u001b[38;5;124;03m    passed to ``__init__``  in the checkpoint under ``\"hyper_parameters\"``.\u001b[39;00m\n\u001b[1;32m   1584\u001b[0m \n\u001b[0;32m   (...)\u001b[0m\n\u001b[1;32m   1660\u001b[0m \n\u001b[1;32m   1661\u001b[0m \u001b[38;5;124;03m    \"\"\"\u001b[39;00m\n\u001b[0;32m-> 1662\u001b[0m     loaded \u001b[38;5;241m=\u001b[39m \u001b[43m_load_from_checkpoint\u001b[49m\u001b[43m(\u001b[49m\n\u001b[1;32m   1663\u001b[0m \u001b[43m        \u001b[49m\u001b[38;5;28;43mcls\u001b[39;49m\u001b[43m,\u001b[49m\n\u001b[1;32m   1664\u001b[0m \u001b[43m        \u001b[49m\u001b[43mcheckpoint_path\u001b[49m\u001b[43m,\u001b[49m\n\u001b[1;32m   1665\u001b[0m \u001b[43m        \u001b[49m\u001b[43mmap_location\u001b[49m\u001b[43m,\u001b[49m\n\u001b[1;32m   1666\u001b[0m \u001b[43m        \u001b[49m\u001b[43mhparams_file\u001b[49m\u001b[43m,\u001b[49m\n\u001b[1;32m   1667\u001b[0m \u001b[43m        \u001b[49m\u001b[43mstrict\u001b[49m\u001b[43m,\u001b[49m\n\u001b[1;32m   1668\u001b[0m \u001b[43m        \u001b[49m\u001b[38;5;241;43m*\u001b[39;49m\u001b[38;5;241;43m*\u001b[39;49m\u001b[43mkwargs\u001b[49m\u001b[43m,\u001b[49m\n\u001b[1;32m   1669\u001b[0m \u001b[43m    \u001b[49m\u001b[43m)\u001b[49m\n\u001b[1;32m   1670\u001b[0m     \u001b[38;5;28;01mreturn\u001b[39;00m cast(Self, loaded)\n",
      "File \u001b[0;32m/exp/sbnd/app/users/yuhw/dl-clustering/venv_eaf/lib/python3.10/site-packages/pytorch_lightning/core/saving.py:91\u001b[0m, in \u001b[0;36m_load_from_checkpoint\u001b[0;34m(cls, checkpoint_path, map_location, hparams_file, strict, **kwargs)\u001b[0m\n\u001b[1;32m     89\u001b[0m     \u001b[38;5;28;01mreturn\u001b[39;00m _load_state(\u001b[38;5;28mcls\u001b[39m, checkpoint, \u001b[38;5;241m*\u001b[39m\u001b[38;5;241m*\u001b[39mkwargs)\n\u001b[1;32m     90\u001b[0m \u001b[38;5;28;01mif\u001b[39;00m \u001b[38;5;28missubclass\u001b[39m(\u001b[38;5;28mcls\u001b[39m, pl\u001b[38;5;241m.\u001b[39mLightningModule):\n\u001b[0;32m---> 91\u001b[0m     model \u001b[38;5;241m=\u001b[39m \u001b[43m_load_state\u001b[49m\u001b[43m(\u001b[49m\u001b[38;5;28;43mcls\u001b[39;49m\u001b[43m,\u001b[49m\u001b[43m \u001b[49m\u001b[43mcheckpoint\u001b[49m\u001b[43m,\u001b[49m\u001b[43m \u001b[49m\u001b[43mstrict\u001b[49m\u001b[38;5;241;43m=\u001b[39;49m\u001b[43mstrict\u001b[49m\u001b[43m,\u001b[49m\u001b[43m \u001b[49m\u001b[38;5;241;43m*\u001b[39;49m\u001b[38;5;241;43m*\u001b[39;49m\u001b[43mkwargs\u001b[49m\u001b[43m)\u001b[49m\n\u001b[1;32m     92\u001b[0m     state_dict \u001b[38;5;241m=\u001b[39m checkpoint[\u001b[38;5;124m\"\u001b[39m\u001b[38;5;124mstate_dict\u001b[39m\u001b[38;5;124m\"\u001b[39m]\n\u001b[1;32m     93\u001b[0m     \u001b[38;5;28;01mif\u001b[39;00m \u001b[38;5;129;01mnot\u001b[39;00m state_dict:\n",
      "File \u001b[0;32m/exp/sbnd/app/users/yuhw/dl-clustering/venv_eaf/lib/python3.10/site-packages/pytorch_lightning/core/saving.py:187\u001b[0m, in \u001b[0;36m_load_state\u001b[0;34m(cls, checkpoint, strict, **cls_kwargs_new)\u001b[0m\n\u001b[1;32m    184\u001b[0m     obj\u001b[38;5;241m.\u001b[39mon_load_checkpoint(checkpoint)\n\u001b[1;32m    186\u001b[0m \u001b[38;5;66;03m# load the state_dict on the model automatically\u001b[39;00m\n\u001b[0;32m--> 187\u001b[0m keys \u001b[38;5;241m=\u001b[39m \u001b[43mobj\u001b[49m\u001b[38;5;241;43m.\u001b[39;49m\u001b[43mload_state_dict\u001b[49m\u001b[43m(\u001b[49m\u001b[43mcheckpoint\u001b[49m\u001b[43m[\u001b[49m\u001b[38;5;124;43m\"\u001b[39;49m\u001b[38;5;124;43mstate_dict\u001b[39;49m\u001b[38;5;124;43m\"\u001b[39;49m\u001b[43m]\u001b[49m\u001b[43m,\u001b[49m\u001b[43m \u001b[49m\u001b[43mstrict\u001b[49m\u001b[38;5;241;43m=\u001b[39;49m\u001b[43mstrict\u001b[49m\u001b[43m)\u001b[49m  \u001b[38;5;66;03m# type: ignore[arg-type]\u001b[39;00m\n\u001b[1;32m    189\u001b[0m \u001b[38;5;28;01mif\u001b[39;00m \u001b[38;5;129;01mnot\u001b[39;00m strict:\n\u001b[1;32m    190\u001b[0m     \u001b[38;5;28;01mif\u001b[39;00m keys\u001b[38;5;241m.\u001b[39mmissing_keys:\n",
      "File \u001b[0;32m/exp/sbnd/app/users/yuhw/dl-clustering/venv_eaf/lib/python3.10/site-packages/torch/nn/modules/module.py:2593\u001b[0m, in \u001b[0;36mModule.load_state_dict\u001b[0;34m(self, state_dict, strict, assign)\u001b[0m\n\u001b[1;32m   2585\u001b[0m         error_msgs\u001b[38;5;241m.\u001b[39minsert(\n\u001b[1;32m   2586\u001b[0m             \u001b[38;5;241m0\u001b[39m,\n\u001b[1;32m   2587\u001b[0m             \u001b[38;5;124m\"\u001b[39m\u001b[38;5;124mMissing key(s) in state_dict: \u001b[39m\u001b[38;5;132;01m{}\u001b[39;00m\u001b[38;5;124m. \u001b[39m\u001b[38;5;124m\"\u001b[39m\u001b[38;5;241m.\u001b[39mformat(\n\u001b[1;32m   2588\u001b[0m                 \u001b[38;5;124m\"\u001b[39m\u001b[38;5;124m, \u001b[39m\u001b[38;5;124m\"\u001b[39m\u001b[38;5;241m.\u001b[39mjoin(\u001b[38;5;124mf\u001b[39m\u001b[38;5;124m'\u001b[39m\u001b[38;5;124m\"\u001b[39m\u001b[38;5;132;01m{\u001b[39;00mk\u001b[38;5;132;01m}\u001b[39;00m\u001b[38;5;124m\"\u001b[39m\u001b[38;5;124m'\u001b[39m \u001b[38;5;28;01mfor\u001b[39;00m k \u001b[38;5;129;01min\u001b[39;00m missing_keys)\n\u001b[1;32m   2589\u001b[0m             ),\n\u001b[1;32m   2590\u001b[0m         )\n\u001b[1;32m   2592\u001b[0m \u001b[38;5;28;01mif\u001b[39;00m \u001b[38;5;28mlen\u001b[39m(error_msgs) \u001b[38;5;241m>\u001b[39m \u001b[38;5;241m0\u001b[39m:\n\u001b[0;32m-> 2593\u001b[0m     \u001b[38;5;28;01mraise\u001b[39;00m \u001b[38;5;167;01mRuntimeError\u001b[39;00m(\n\u001b[1;32m   2594\u001b[0m         \u001b[38;5;124m\"\u001b[39m\u001b[38;5;124mError(s) in loading state_dict for \u001b[39m\u001b[38;5;132;01m{}\u001b[39;00m\u001b[38;5;124m:\u001b[39m\u001b[38;5;130;01m\\n\u001b[39;00m\u001b[38;5;130;01m\\t\u001b[39;00m\u001b[38;5;132;01m{}\u001b[39;00m\u001b[38;5;124m\"\u001b[39m\u001b[38;5;241m.\u001b[39mformat(\n\u001b[1;32m   2595\u001b[0m             \u001b[38;5;28mself\u001b[39m\u001b[38;5;241m.\u001b[39m\u001b[38;5;18m__class__\u001b[39m\u001b[38;5;241m.\u001b[39m\u001b[38;5;18m__name__\u001b[39m, \u001b[38;5;124m\"\u001b[39m\u001b[38;5;130;01m\\n\u001b[39;00m\u001b[38;5;130;01m\\t\u001b[39;00m\u001b[38;5;124m\"\u001b[39m\u001b[38;5;241m.\u001b[39mjoin(error_msgs)\n\u001b[1;32m   2596\u001b[0m         )\n\u001b[1;32m   2597\u001b[0m     )\n\u001b[1;32m   2598\u001b[0m \u001b[38;5;28;01mreturn\u001b[39;00m _IncompatibleKeys(missing_keys, unexpected_keys)\n",
      "\u001b[0;31mRuntimeError\u001b[0m: Error(s) in loading state_dict for NuGraph2:\n\tMissing key(s) in state_dict: \"encoder.net.u.0.norm.count\", \"encoder.net.u.0.norm.mean\", \"encoder.net.u.0.norm.var\", \"encoder.net.u.1.net.0.weight\", \"encoder.net.u.1.net.0.bias\", \"encoder.net.u.1.net.1.weight\", \"encoder.net.u.1.net.1.bias\", \"encoder.net.u.1.net.2.weight\", \"encoder.net.u.1.net.2.bias\", \"encoder.net.u.1.net.3.weight\", \"encoder.net.u.1.net.3.bias\", \"encoder.net.u.1.net.4.weight\", \"encoder.net.u.1.net.4.bias\", \"encoder.net.v.0.norm.count\", \"encoder.net.v.0.norm.mean\", \"encoder.net.v.0.norm.var\", \"encoder.net.v.1.net.0.weight\", \"encoder.net.v.1.net.0.bias\", \"encoder.net.v.1.net.1.weight\", \"encoder.net.v.1.net.1.bias\", \"encoder.net.v.1.net.2.weight\", \"encoder.net.v.1.net.2.bias\", \"encoder.net.v.1.net.3.weight\", \"encoder.net.v.1.net.3.bias\", \"encoder.net.v.1.net.4.weight\", \"encoder.net.v.1.net.4.bias\", \"encoder.net.y.0.norm.count\", \"encoder.net.y.0.norm.mean\", \"encoder.net.y.0.norm.var\", \"encoder.net.y.1.net.0.weight\", \"encoder.net.y.1.net.0.bias\", \"encoder.net.y.1.net.1.weight\", \"encoder.net.y.1.net.1.bias\", \"encoder.net.y.1.net.2.weight\", \"encoder.net.y.1.net.2.bias\", \"encoder.net.y.1.net.3.weight\", \"encoder.net.y.1.net.3.bias\", \"encoder.net.y.1.net.4.weight\", \"encoder.net.y.1.net.4.bias\". \n\tUnexpected key(s) in state_dict: \"encoder.net.u.0.net.0.weight\", \"encoder.net.u.0.net.0.bias\", \"encoder.net.u.0.net.1.weight\", \"encoder.net.u.0.net.1.bias\", \"encoder.net.u.0.net.2.weight\", \"encoder.net.u.0.net.2.bias\", \"encoder.net.u.0.net.3.weight\", \"encoder.net.u.0.net.3.bias\", \"encoder.net.u.0.net.4.weight\", \"encoder.net.u.0.net.4.bias\", \"encoder.net.v.0.net.0.weight\", \"encoder.net.v.0.net.0.bias\", \"encoder.net.v.0.net.1.weight\", \"encoder.net.v.0.net.1.bias\", \"encoder.net.v.0.net.2.weight\", \"encoder.net.v.0.net.2.bias\", \"encoder.net.v.0.net.3.weight\", \"encoder.net.v.0.net.3.bias\", \"encoder.net.v.0.net.4.weight\", \"encoder.net.v.0.net.4.bias\", \"encoder.net.y.0.net.0.weight\", \"encoder.net.y.0.net.0.bias\", \"encoder.net.y.0.net.1.weight\", \"encoder.net.y.0.net.1.bias\", \"encoder.net.y.0.net.2.weight\", \"encoder.net.y.0.net.2.bias\", \"encoder.net.y.0.net.3.weight\", \"encoder.net.y.0.net.3.bias\", \"encoder.net.y.0.net.4.weight\", \"encoder.net.y.0.net.4.bias\". "
     ]
    }
   ],
   "source": [
    "ckpt = os.path.expandvars(\"/exp/sbnd/app/users/yuhw/nugraph/test/NG2-paper.ckpt\")\n",
    "model = Model.load_from_checkpoint(ckpt, map_location=\"cpu\")\n",
    "model.freeze()"
   ]
  },
  {
   "cell_type": "markdown",
   "id": "d19eadfd-33ab-41e9-901a-296c1c0fe5c6",
   "metadata": {},
   "source": [
    "## Configure plotting utility\n",
    "Instantiate the **pynuml** utility for plotting graph objects, which will do the heavy lifting for us here!"
   ]
  },
  {
   "cell_type": "code",
   "execution_count": 15,
   "id": "ddb02cdf-df37-492f-89f2-06a5821d5f23",
   "metadata": {},
   "outputs": [],
   "source": [
    "plot = pynuml.plot.GraphPlot(planes=nudata.planes,\n",
    "                             classes=nudata.semantic_classes)"
   ]
  },
  {
   "cell_type": "markdown",
   "id": "fc8176e1-0655-4f86-a7f7-f66fd32e81e3",
   "metadata": {},
   "source": [
    "## Plot ground truth labels\n",
    "\n",
    "### Iterable dataset\n",
    "\n",
    "First we define an iterator over the test dataset:"
   ]
  },
  {
   "cell_type": "code",
   "execution_count": 16,
   "id": "9db8fd68-b043-45ae-9381-0dfb1360d108",
   "metadata": {},
   "outputs": [],
   "source": [
    "test_iter = iter(nudata.test_dataset)"
   ]
  },
  {
   "cell_type": "markdown",
   "id": "86b92215-f402-4c33-abc1-253bf7fc54d2",
   "metadata": {},
   "source": [
    "### Retrieve the next graph\n",
    "\n",
    "This block retrieves a graph from the testing dataset, and passes it through the trained model. Since we defined `test_iter` as an iterator over the dataset, the following block can be executed multiple times, and each time it's executed, it will step to the next graph in the dataset."
   ]
  },
  {
   "cell_type": "code",
   "execution_count": 20,
   "id": "05bd726b-864f-406a-ad51-d8f423280033",
   "metadata": {},
   "outputs": [
    {
     "ename": "StopIteration",
     "evalue": "",
     "output_type": "error",
     "traceback": [
      "\u001b[0;31m---------------------------------------------------------------------------\u001b[0m",
      "\u001b[0;31mStopIteration\u001b[0m                             Traceback (most recent call last)",
      "Cell \u001b[0;32mIn[20], line 1\u001b[0m\n\u001b[0;32m----> 1\u001b[0m data \u001b[38;5;241m=\u001b[39m \u001b[38;5;28;43mnext\u001b[39;49m\u001b[43m(\u001b[49m\u001b[43mtest_iter\u001b[49m\u001b[43m)\u001b[49m\n\u001b[1;32m      2\u001b[0m md \u001b[38;5;241m=\u001b[39m data[\u001b[38;5;124m'\u001b[39m\u001b[38;5;124mmetadata\u001b[39m\u001b[38;5;124m'\u001b[39m]\n\u001b[1;32m      3\u001b[0m \u001b[38;5;28mprint\u001b[39m(md)\n",
      "\u001b[0;31mStopIteration\u001b[0m: "
     ]
    }
   ],
   "source": [
    "data = next(test_iter)\n",
    "md = data['metadata']\n",
    "print(md)\n",
    "name = f'r{md.run}_sr{md.subrun}_e{md.event}'\n",
    "# model(data);"
   ]
  },
  {
   "cell_type": "markdown",
   "id": "253d34a6-a395-405e-8d1d-88e0ad8e9c0f",
   "metadata": {},
   "source": [
    "### Plot a single graph\n",
    "\n",
    "We can now use pynuml's plotting utilities to plot the graph as a figure. Each time you call the above block to retrieve a new graph, you can then re-execute the plotting blocks to re-plot with the new graph."
   ]
  },
  {
   "cell_type": "code",
   "execution_count": 19,
   "id": "a0e567f1-01e8-4d19-97a4-00237f5abd72",
   "metadata": {},
   "outputs": [
    {
     "ename": "KeyError",
     "evalue": "'id'",
     "output_type": "error",
     "traceback": [
      "\u001b[0;31m---------------------------------------------------------------------------\u001b[0m",
      "\u001b[0;31mKeyError\u001b[0m                                  Traceback (most recent call last)",
      "Cell \u001b[0;32mIn[19], line 1\u001b[0m\n\u001b[0;32m----> 1\u001b[0m fig \u001b[38;5;241m=\u001b[39m \u001b[43mplot\u001b[49m\u001b[38;5;241;43m.\u001b[39;49m\u001b[43mplot\u001b[49m\u001b[43m(\u001b[49m\u001b[43mdata\u001b[49m\u001b[43m,\u001b[49m\u001b[43m \u001b[49m\u001b[43mtarget\u001b[49m\u001b[38;5;241;43m=\u001b[39;49m\u001b[38;5;124;43m'\u001b[39;49m\u001b[38;5;124;43msemantic\u001b[39;49m\u001b[38;5;124;43m'\u001b[39;49m\u001b[43m,\u001b[49m\u001b[43m \u001b[49m\u001b[43mhow\u001b[49m\u001b[38;5;241;43m=\u001b[39;49m\u001b[38;5;124;43m'\u001b[39;49m\u001b[38;5;124;43mtrue\u001b[39;49m\u001b[38;5;124;43m'\u001b[39;49m\u001b[43m,\u001b[49m\u001b[43m \u001b[49m\u001b[38;5;28;43mfilter\u001b[39;49m\u001b[38;5;241;43m=\u001b[39;49m\u001b[38;5;124;43m'\u001b[39;49m\u001b[38;5;124;43mshow\u001b[39;49m\u001b[38;5;124;43m'\u001b[39;49m\u001b[43m)\u001b[49m\n\u001b[1;32m      2\u001b[0m fig\n",
      "File \u001b[0;32m/exp/sbnd/app/users/yuhw/nugraph/pynuml/pynuml/plot/graph.py:87\u001b[0m, in \u001b[0;36mGraphPlot.plot\u001b[0;34m(self, data, target, how, filter, xyz, width, height, title)\u001b[0m\n\u001b[1;32m     77\u001b[0m \u001b[38;5;28;01mdef\u001b[39;00m\u001b[38;5;250m \u001b[39m\u001b[38;5;21mplot\u001b[39m(\u001b[38;5;28mself\u001b[39m,\n\u001b[1;32m     78\u001b[0m          data: HeteroData,\n\u001b[1;32m     79\u001b[0m          target: \u001b[38;5;28mstr\u001b[39m \u001b[38;5;241m=\u001b[39m \u001b[38;5;124m'\u001b[39m\u001b[38;5;124mhits\u001b[39m\u001b[38;5;124m'\u001b[39m,\n\u001b[0;32m   (...)\u001b[0m\n\u001b[1;32m     84\u001b[0m          height: \u001b[38;5;28mint\u001b[39m \u001b[38;5;241m=\u001b[39m \u001b[38;5;28;01mNone\u001b[39;00m,\n\u001b[1;32m     85\u001b[0m          title: \u001b[38;5;28mbool\u001b[39m \u001b[38;5;241m=\u001b[39m \u001b[38;5;28;01mTrue\u001b[39;00m) \u001b[38;5;241m-\u001b[39m\u001b[38;5;241m>\u001b[39m FigureWidget:\n\u001b[0;32m---> 87\u001b[0m     df \u001b[38;5;241m=\u001b[39m \u001b[38;5;28;43mself\u001b[39;49m\u001b[38;5;241;43m.\u001b[39;49m\u001b[43mto_dataframe\u001b[49m\u001b[43m(\u001b[49m\u001b[43mdata\u001b[49m\u001b[43m)\u001b[49m\n\u001b[1;32m     89\u001b[0m     \u001b[38;5;66;03m# no colour\u001b[39;00m\n\u001b[1;32m     90\u001b[0m     \u001b[38;5;28;01mif\u001b[39;00m target \u001b[38;5;241m==\u001b[39m \u001b[38;5;124m'\u001b[39m\u001b[38;5;124mhits\u001b[39m\u001b[38;5;124m'\u001b[39m:\n",
      "File \u001b[0;32m/exp/sbnd/app/users/yuhw/nugraph/pynuml/pynuml/plot/graph.py:36\u001b[0m, in \u001b[0;36mGraphPlot.to_dataframe\u001b[0;34m(self, data)\u001b[0m\n\u001b[1;32m     33\u001b[0m     \u001b[38;5;28;01mraise\u001b[39;00m \u001b[38;5;167;01mRuntimeError\u001b[39;00m(\u001b[38;5;124m'\u001b[39m\u001b[38;5;124mto_dataframe does not support batches!\u001b[39m\u001b[38;5;124m'\u001b[39m)\n\u001b[1;32m     35\u001b[0m hit \u001b[38;5;241m=\u001b[39m data[\u001b[38;5;124m\"\u001b[39m\u001b[38;5;124mhit\u001b[39m\u001b[38;5;124m\"\u001b[39m]\u001b[38;5;241m.\u001b[39mto_dict()\n\u001b[0;32m---> 36\u001b[0m df \u001b[38;5;241m=\u001b[39m pd\u001b[38;5;241m.\u001b[39mDataFrame(\u001b[43mhit\u001b[49m\u001b[43m[\u001b[49m\u001b[38;5;124;43m\"\u001b[39;49m\u001b[38;5;124;43mid\u001b[39;49m\u001b[38;5;124;43m\"\u001b[39;49m\u001b[43m]\u001b[49m, columns\u001b[38;5;241m=\u001b[39m[\u001b[38;5;124m\"\u001b[39m\u001b[38;5;124mid\u001b[39m\u001b[38;5;124m\"\u001b[39m])\n\u001b[1;32m     37\u001b[0m df[\u001b[38;5;124m\"\u001b[39m\u001b[38;5;124mplane\u001b[39m\u001b[38;5;124m\"\u001b[39m] \u001b[38;5;241m=\u001b[39m [\u001b[38;5;28mself\u001b[39m\u001b[38;5;241m.\u001b[39m_planes[i] \u001b[38;5;28;01mfor\u001b[39;00m i \u001b[38;5;129;01min\u001b[39;00m hit[\u001b[38;5;124m\"\u001b[39m\u001b[38;5;124mplane\u001b[39m\u001b[38;5;124m\"\u001b[39m]]\n\u001b[1;32m     38\u001b[0m df[[\u001b[38;5;124m\"\u001b[39m\u001b[38;5;124mproj\u001b[39m\u001b[38;5;124m\"\u001b[39m, \u001b[38;5;124m\"\u001b[39m\u001b[38;5;124mdrift\u001b[39m\u001b[38;5;124m\"\u001b[39m]] \u001b[38;5;241m=\u001b[39m hit[\u001b[38;5;124m\"\u001b[39m\u001b[38;5;124mpos\u001b[39m\u001b[38;5;124m\"\u001b[39m]\n",
      "\u001b[0;31mKeyError\u001b[0m: 'id'"
     ]
    }
   ],
   "source": [
    "fig = plot.plot(data, target='semantic', how='true', filter='show')\n",
    "fig"
   ]
  },
  {
   "cell_type": "markdown",
   "id": "110b42b7-c924-414f-b274-62d43bfa1c22",
   "metadata": {},
   "source": [
    "### Save plots to disk\n",
    "\n",
    "We can also use plotly's `write_html` and `write_image` methods to print the figure as an interactive webpage, or in a raster graphics (ie. PNG, JPEG etc) or vector graphics (ie. PDF) format. By default this writes to a `plots` subdirectory – if you're seeing an error that this directory does not exist, simply create one, or change the path to a valid output location!"
   ]
  },
  {
   "cell_type": "code",
   "execution_count": null,
   "id": "2ee27979-c6c0-4ba9-b8bf-43a2ac6faaac",
   "metadata": {},
   "outputs": [],
   "source": [
    "fig.write_html(f'plots/evd/{name}_semantic_true.html')\n",
    "fig.write_image(f'plots/evd/{name}_semantic_true.png')\n",
    "fig.write_image(f'plots/evd/{name}_semantic_true.pdf')"
   ]
  },
  {
   "cell_type": "markdown",
   "id": "725c59ac-ec07-4b9d-b041-64cbe4215ba3",
   "metadata": {},
   "source": [
    "### (Optional) Select example events\n",
    "\n",
    "The following blocks will select the representative events from the NuGraph2 paper"
   ]
  },
  {
   "cell_type": "markdown",
   "id": "62fdd710-17c6-4e0f-bc9e-52e056c63faf",
   "metadata": {},
   "source": [
    "### Event 1\n",
    "\n",
    "Run 5189, subrun 225, event 11300"
   ]
  },
  {
   "cell_type": "code",
   "execution_count": null,
   "id": "9ad4f710-21fa-4f1e-8e2e-4b255b29b95f",
   "metadata": {},
   "outputs": [],
   "source": [
    "data = nudata.test_dataset[64]\n",
    "md = data['metadata']\n",
    "name = f'r{md.run}_sr{md.subrun}_e{md.event}'\n",
    "model.step(data);"
   ]
  },
  {
   "cell_type": "markdown",
   "id": "ea6e6bda-f146-4066-9099-608f50542676",
   "metadata": {},
   "source": [
    "### Event 2\n",
    "\n",
    "Run 6999, subrun 11, event 595"
   ]
  },
  {
   "cell_type": "code",
   "execution_count": null,
   "id": "66c451a3-3d8f-4c0e-ad9e-4b7f2717fd2b",
   "metadata": {},
   "outputs": [],
   "source": [
    "data = nudata.test_dataset[36]\n",
    "md = data['metadata']\n",
    "name = f'r{md.run}_sr{md.subrun}_e{md.event}'\n",
    "model.step(data);"
   ]
  },
  {
   "cell_type": "markdown",
   "id": "3f0c0949-dc00-466e-87f9-4579024f5625",
   "metadata": {},
   "source": [
    "### Event 3\n",
    "\n",
    "Run 7048, subrun 177, event 8858"
   ]
  },
  {
   "cell_type": "code",
   "execution_count": null,
   "id": "ad517800-072a-4318-8633-a9be034dc146",
   "metadata": {},
   "outputs": [],
   "source": [
    "data = nudata.test_dataset[11]\n",
    "md = data['metadata']\n",
    "name = f'r{md.run}_sr{md.subrun}_e{md.event}'\n",
    "model.step(data);"
   ]
  },
  {
   "cell_type": "markdown",
   "id": "af512177-e4ce-4d65-b4d5-9f05582b5604",
   "metadata": {},
   "source": [
    "### Event 4\n",
    "\n",
    "Run 5459, subrun 94, event 4738"
   ]
  },
  {
   "cell_type": "code",
   "execution_count": null,
   "id": "0cd11392-4ab5-460d-8dbf-c3e0a4923260",
   "metadata": {},
   "outputs": [],
   "source": [
    "data = nudata.test_dataset[91]\n",
    "md = data['metadata']\n",
    "name = f'r{md.run}_sr{md.subrun}_e{md.event}'\n",
    "model.step(data);"
   ]
  },
  {
   "cell_type": "markdown",
   "id": "d0401913-72e9-46a8-9988-c8ab78d297db",
   "metadata": {},
   "source": [
    "### Event 5\n",
    "\n",
    "Run 6780, subrun 200, event 10006"
   ]
  },
  {
   "cell_type": "code",
   "execution_count": null,
   "id": "ce8d24bb-2096-4e5c-8217-c84746f81682",
   "metadata": {},
   "outputs": [],
   "source": [
    "data = nudata.test_dataset[27]\n",
    "md = data['metadata']\n",
    "name = f'r{md.run}_sr{md.subrun}_e{md.event}'\n",
    "model.step(data);"
   ]
  },
  {
   "cell_type": "markdown",
   "id": "6050b5db-6801-46fb-8e23-73022a5b6a1f",
   "metadata": {},
   "source": [
    "### Plot event displays\n",
    "\n",
    "Write event displays to disk in PDF format for use in the NuGraph2 paper."
   ]
  },
  {
   "cell_type": "code",
   "execution_count": null,
   "id": "d006a18b",
   "metadata": {},
   "outputs": [],
   "source": []
  },
  {
   "cell_type": "code",
   "execution_count": null,
   "id": "fe898cdd-b8cf-4589-95b4-3020d9e02ba2",
   "metadata": {},
   "outputs": [],
   "source": [
    "plot.plot(data, target='filter', how='true', filter='none').write_image(f'plots/evd/{name}_filter_true.pdf')\n",
    "plot.plot(data, target='filter', how='pred', filter='none').write_image(f'plots/evd/{name}_filter_pred.pdf')\n",
    "plot.plot(data, target='semantic', how='true', filter='true').write_image(f'plots/evd/{name}_semantic_true.pdf')\n",
    "plot.plot(data, target='semantic', how='pred', filter='pred').write_image(f'plots/evd/{name}_semantic_pred.pdf')"
   ]
  },
  {
   "cell_type": "markdown",
   "id": "155a0d32-4de1-45a4-bd0a-5eebd2b77485",
   "metadata": {},
   "source": [
    "### Print model performance\n",
    "\n",
    "Print out information on the rate at which the model makes mistakes, and some information on common failure modes."
   ]
  },
  {
   "cell_type": "code",
   "execution_count": null,
   "id": "2151065c-c425-4b08-b8b4-00b12f9f44ac",
   "metadata": {},
   "outputs": [],
   "source": [
    "tf = torch.cat([(data[p].y_semantic!=-1) for p in nudata.planes])\n",
    "pf = torch.cat([data[p].x_filter.round() for p in nudata.planes])\n",
    "ts = torch.cat([data[p].y_semantic for p in nudata.planes])[tf]\n",
    "ps = torch.cat([data[p].x_semantic.argmax(dim=1) for p in nudata.planes])[tf]\n",
    "\n",
    "print(f'there are {tf.size(0)} hits overall, of which {tf.sum()} are signal.')\n",
    "\n",
    "print('\\n### Filter\\n')\n",
    "\n",
    "mask = tf != pf\n",
    "print(f'{mask.sum()} hits were classified wrong. of those, {(tf[mask]==0).sum()} are false positives, and {(tf[mask]==1).sum()} are false negatives.')\n",
    "\n",
    "print('\\n### Semantic\\n')\n",
    "\n",
    "print(f'of the {tf.sum()} signal hits, {(ps==ts).sum()} are correctly classified.')\n",
    "\n",
    "mask = ts != ps\n",
    "print(f'of the {mask.sum()} misclassified hits:')\n",
    "\n",
    "for i, c in enumerate(nudata.semantic_classes):\n",
    "    tm = ts[mask]==i\n",
    "    if tm.sum() == 0: continue\n",
    "    print(f'- {tm.sum()} {c} hits were misclassified.')\n",
    "    for j, cj in enumerate(nudata.semantic_classes):\n",
    "        pm = ps[mask][tm]==j\n",
    "        if pm.sum() == 0: continue\n",
    "        print(f'  - {pm.sum()} as {cj}')"
   ]
  },
  {
   "cell_type": "code",
   "execution_count": null,
   "id": "7dbbcf98-49b7-4131-9474-ad107ec16cf1",
   "metadata": {},
   "outputs": [],
   "source": []
  }
 ],
 "metadata": {
  "kernelspec": {
   "display_name": "dl-clustering-eaf",
   "language": "python",
   "name": "dl-clustering-eaf"
  },
  "language_info": {
   "codemirror_mode": {
    "name": "ipython",
    "version": 3
   },
   "file_extension": ".py",
   "mimetype": "text/x-python",
   "name": "python",
   "nbconvert_exporter": "python",
   "pygments_lexer": "ipython3",
   "version": "3.10.18"
  }
 },
 "nbformat": 4,
 "nbformat_minor": 5
}
